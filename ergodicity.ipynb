{
 "cells": [
  {
   "cell_type": "markdown",
   "metadata": {},
   "source": [
    "# Exploring ergodicity\n",
    "\n",
    "Exploration of the topic of ergodicity was spurred while reading Nassim Nicholas Taleb's book *Fooled by Randomness*.\n",
    "\n",
    "In the book, Taleb gives the following rough (by his own description) explanation of ergodicity: *...\"(under certain conditions) very long sample paths would end up resembling each other.  The properties of a very, very long sample path would be similar to the Monte Carlo properties of an average of shorter ones.\"*\n",
    "\n",
    "We have posed to ourselves the following question:\n",
    "\n",
    "Suppose you are to bet under the following conditions: if you win, your bet increases by 5%, but if you lose, your bet decreases by 3%.  The probability of winning is 1/2.\n",
    "\n",
    "Over a long run (say, 1,000 bets) do you expect to come out a winner or a loser?  You might think that we should expect to come out ahead, since the probability of winning is the same as the probability of losing, and when we win our bet increases by more than it decreases if we lose.  However, let's explore it!"
   ]
  },
  {
   "cell_type": "markdown",
   "metadata": {},
   "source": [
    "## Generate a series of trials matching our betting system\n",
    "\n",
    "We create a run of 1,000 trials where each trial represents a Bernoulli random variable with probability 1/2.\n",
    "We start with an initial bet of $1, and then add 5% if the we won (Bernoulli r.v. = 1) or subtract 3% if we lost (Bernoulli r.v. = 0). We repeat for 1,000 bets and then plot the result. \n"
   ]
  },
  {
   "cell_type": "code",
   "execution_count": 31,
   "metadata": {},
   "outputs": [
    {
     "name": "stdout",
     "output_type": "stream",
     "text": [
      "The number of bets we will make is 1000\n",
      "The total number of wins is 514\n"
     ]
    }
   ],
   "source": [
    "import numpy as np\n",
    "\n",
    "n, p = 1, 0.5\n",
    "num_trials = 1000\n",
    "\n",
    "outcomes = np.random.binomial(n, p, num_trials)\n",
    "\n",
    "print(\"The number of bets we will make is {}\".format(len(outcomes)))\n",
    "print(\"The total number of wins is {}\".format(sum(outcomes)))\n"
   ]
  },
  {
   "cell_type": "code",
   "execution_count": 32,
   "metadata": {},
   "outputs": [
    {
     "name": "stdout",
     "output_type": "stream",
     "text": [
      "Number of bets made is 1000\n",
      "Min amount is 0.9409 and max amount is 31002.20175823524\n"
     ]
    }
   ],
   "source": [
    "bet = 1 \n",
    "bet_trajectory = []\n",
    "\n",
    "for n in outcomes:\n",
    "    if n == 1:\n",
    "        bet = bet * 1.05\n",
    "    else:\n",
    "        bet = bet * 0.97\n",
    "    bet_trajectory.append(bet)\n",
    "    \n",
    "print(\"Number of bets made is {}\".format(len(bet_trajectory)))\n",
    "print(\"Min amount is {0} and max amount is {1}\".format(min(bet_trajectory), max(bet_trajectory)))"
   ]
  },
  {
   "cell_type": "code",
   "execution_count": 33,
   "metadata": {},
   "outputs": [
    {
     "data": {
      "image/png": "[encoded data removed]",
      "text/plain": [
       "<Figure size 432x288 with 1 Axes>"
      ]
     },
     "metadata": {
      "needs_background": "light"
     },
     "output_type": "display_data"
    }
   ],
   "source": [
    "import matplotlib.pyplot as plt\n",
    "\n",
    "plt.plot(range(1000), bet_trajectory)\n",
    "plt.show()"
   ]
  },
  {
   "cell_type": "markdown",
   "metadata": {},
   "source": [
    "## 1,000 trials of 1,000 bets\n",
    "\n",
    "I haven't finished this part yet."
   ]
  },
  {
   "cell_type": "code",
   "execution_count": null,
   "metadata": {},
   "outputs": [],
   "source": [
    "def betting_spree(outcomes, bet):\n",
    "    \"\"\" Takes a starting bet and a list of 1/0 (win/lose) outcomes, and outputs\n",
    "        the final amount where 1 (win) = 5% gain, 0 (lose) = 3% loss\n",
    "    \n",
    "    Params:\n",
    "    ----\n",
    "    bet: String\n",
    "        Your starting bet amount (e.g. 1, to bet $1)\n",
    "    outcomes: List\n",
    "        A list of win/lose outcomes\n",
    "        Length of the list corresponds to # of bets to place sequentially\n",
    "    \n",
    "    Returns: \n",
    "    ----\n",
    "    result: Int\n",
    "        The final amount you win/lose\n",
    "    \n",
    "    \"\"\"\n",
    "    for n in outcomes:\n",
    "    if n == 1:\n",
    "        bet = bet * 1.05\n",
    "    else:\n",
    "        bet = bet * 0.97\n",
    "    return(bet)\n",
    "\n",
    "#stored_trials = for i in  \n"
   ]
  },
  {
   "cell_type": "code",
   "execution_count": null,
   "metadata": {},
   "outputs": [],
   "source": []
  },
  {
   "cell_type": "code",
   "execution_count": 7,
   "metadata": {},
   "outputs": [],
   "source": [
    "# Use this to modify it for a random variable with non-binary outcome possibilities\n",
    "n, p = 1000, 0.5\n",
    "num_trials = 10000\n",
    "\n",
    "outcomes = np.random.choice([0, 1], size=n, p=[p, (1-p)])"
   ]
  }
 ],
 "metadata": {
  "kernelspec": {
   "display_name": "Python 3",
   "language": "python",
   "name": "python3"
  },
  "language_info": {
   "codemirror_mode": {
    "name": "ipython",
    "version": 3
   },
   "file_extension": ".py",
   "mimetype": "text/x-python",
   "name": "python",
   "nbconvert_exporter": "python",
   "pygments_lexer": "ipython3",
   "version": "3.8.5"
  }
 },
 "nbformat": 4,
 "nbformat_minor": 4
}
